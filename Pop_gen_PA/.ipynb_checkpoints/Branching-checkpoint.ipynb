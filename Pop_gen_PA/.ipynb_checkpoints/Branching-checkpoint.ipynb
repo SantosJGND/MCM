{
 "cells": [
  {
   "cell_type": "code",
   "execution_count": 1,
   "metadata": {},
   "outputs": [
    {
     "data": {
      "text/html": [
       "        <script type=\"text/javascript\">\n",
       "        window.PlotlyConfig = {MathJaxConfig: 'local'};\n",
       "        if (window.MathJax) {MathJax.Hub.Config({SVG: {font: \"STIX-Web\"}});}\n",
       "        if (typeof require !== 'undefined') {\n",
       "        require.undef(\"plotly\");\n",
       "        requirejs.config({\n",
       "            paths: {\n",
       "                'plotly': ['https://cdn.plot.ly/plotly-latest.min']\n",
       "            }\n",
       "        });\n",
       "        require(['plotly'], function(Plotly) {\n",
       "            window._Plotly = Plotly;\n",
       "        });\n",
       "        }\n",
       "        </script>\n",
       "        "
      ]
     },
     "metadata": {},
     "output_type": "display_data"
    }
   ],
   "source": [
    "import numpy as np\n",
    "import itertools as it\n",
    "\n",
    "import allel\n",
    "import pandas as pd\n",
    "\n",
    "from _plotly_future_ import v4_subplots\n",
    "import plotly.graph_objs as go\n",
    "from plotly.offline import download_plotlyjs, init_notebook_mode, plot, iplot\n",
    "from plotly.graph_objs import *\n",
    "\n",
    "from ipywidgets import interact, interactive, fixed, interact_manual\n",
    "import ipywidgets as widgets\n",
    "init_notebook_mode(connected=True)\n",
    "\n",
    "from datetime import datetime\n",
    "\n",
    "import collections\n",
    "def recursively_default_dict():\n",
    "    return collections.defaultdict(recursively_default_dict)\n",
    "\n",
    "import matplotlib\n",
    "matplotlib.use('Agg')\n",
    "\n",
    "import matplotlib.pyplot as plt"
   ]
  },
  {
   "cell_type": "code",
   "execution_count": null,
   "metadata": {},
   "outputs": [],
   "source": []
  },
  {
   "cell_type": "code",
   "execution_count": 2,
   "metadata": {},
   "outputs": [],
   "source": [
    "from tools.ABC_utilities import read_demofile, demos_to_SLiM\n",
    "\n",
    "batch= 'pm13_4a_1m_median'\n",
    "recipe_dir= 'Recipes/demos_mat/'\n",
    "\n",
    "\n",
    "demo_file= 'demos/test.txt'\n",
    "template= 'Recipes/demos_mat/template_simple.slim'\n",
    "\n",
    "anc_r= '0'\n",
    "Nsamp= 1\n",
    "sizes= 1000\n",
    "burnin= 5e4\n",
    "med_samp= True\n",
    "rescale_dict= {}\n",
    "\n",
    "directed= False\n",
    "M_convert= True\n",
    "\n",
    "\n",
    "tree, demo_data= read_demofile(demo_file)"
   ]
  },
  {
   "cell_type": "code",
   "execution_count": 3,
   "metadata": {},
   "outputs": [
    {
     "data": {
      "text/plain": [
       "{'(1,2,3)': {'1': '1', '2': '2', 'node': '3'},\n",
       " '(3,4,2)': {'3': '3', '4': '4', 'node': '2'},\n",
       " 'node': '1'}"
      ]
     },
     "execution_count": 3,
     "metadata": {},
     "output_type": "execute_result"
    }
   ],
   "source": [
    "tree"
   ]
  },
  {
   "cell_type": "code",
   "execution_count": 4,
   "metadata": {},
   "outputs": [
    {
     "data": {
      "text/plain": [
       "defaultdict(<function tools.ABC_utilities.recursively_default_dict()>,\n",
       "            {'N': defaultdict(<function tools.ABC_utilities.recursively_default_dict()>,\n",
       "                         {'1': array([800, 800, 800]),\n",
       "                          '2': array([600, 600, 600]),\n",
       "                          '3': array([400, 400, 400]),\n",
       "                          '4': array([200, 200, 200]),\n",
       "                          'T1': array([800, 800, 800]),\n",
       "                          'T2': array([500, 500, 500]),\n",
       "                          '0': array([1000, 1000, 1000])}),\n",
       "             'T': defaultdict(<function tools.ABC_utilities.recursively_default_dict()>,\n",
       "                         {'1': array([400, 400, 400]),\n",
       "                          '2': array([1500, 1500, 1500]),\n",
       "                          '3': array([750, 750, 750])}),\n",
       "             'M': defaultdict(<function tools.ABC_utilities.recursively_default_dict()>,\n",
       "                         {})})"
      ]
     },
     "execution_count": 4,
     "metadata": {},
     "output_type": "execute_result"
    }
   ],
   "source": [
    "demo_data\n"
   ]
  },
  {
   "cell_type": "code",
   "execution_count": 5,
   "metadata": {},
   "outputs": [],
   "source": [
    "from tools.ABC_utilities import tree_fill_list,get_tree_nodes\n",
    "\n",
    "tree_summ= get_tree_nodes({anc_r:tree},nodes=[],edges= [],leaves= [])\n",
    "recipe_dir= '/'.join(template.split('/')[:-1]) + '/'\n",
    "#\n",
    "anc_name= anc_r\n",
    "anc_size= demo_data['N'][anc_r]\n",
    "\n",
    "times_order= [0] + sorted(demo_data['T'].keys(),reverse= True)\n",
    "int_sizes= [x for x in demo_data['N'].keys() if x[0] == 'T']\n",
    "int_sizes= sorted(int_sizes)\n",
    "\n",
    "tree_demo= tree_fill_list(times_order,tree, demo_data, tree_summ, int_sizes= int_sizes,demo_tape= [])\n",
    "###\n",
    "\n",
    "pops= tree_summ['leaves']\n",
    "\n",
    "sizes= [sizes] * len(pops)\n",
    "\n",
    "tree_demo= [{z:g for z,g in x.items() if len(g)} for x in tree_demo]\n",
    "\n",
    "###"
   ]
  },
  {
   "cell_type": "code",
   "execution_count": 6,
   "metadata": {},
   "outputs": [
    {
     "data": {
      "text/plain": [
       "{'nodes': ['0', '(1,2,3)', '1', '2', '(3,4,2)', '3', '4'],\n",
       " 'edges': [('0', '(1,2)'),\n",
       "  ('0', '(3,4)'),\n",
       "  ('(1,2)', '1'),\n",
       "  ('(1,2)', '2'),\n",
       "  ('(3,4)', '3'),\n",
       "  ('(3,4)', '4')],\n",
       " 'leaves': ['1', '2', '3', '4']}"
      ]
     },
     "execution_count": 6,
     "metadata": {},
     "output_type": "execute_result"
    }
   ],
   "source": [
    "tree_summ"
   ]
  },
  {
   "cell_type": "code",
   "execution_count": 7,
   "metadata": {},
   "outputs": [
    {
     "data": {
      "text/plain": [
       "[{'node': '3',\n",
       "  'T': array([750, 750, 750]),\n",
       "  'N': {'(3,4)': array([500, 500, 500]), '(1,2)': array([800, 800, 800])}},\n",
       " {'node': '1',\n",
       "  'T': array([400, 400, 400]),\n",
       "  'N': {'1': array([800, 800, 800]), '2': array([600, 600, 600])}},\n",
       " {'node': '2',\n",
       "  'T': array([1500, 1500, 1500]),\n",
       "  'N': {'3': array([400, 400, 400]), '4': array([200, 200, 200])}}]"
      ]
     },
     "execution_count": 7,
     "metadata": {},
     "output_type": "execute_result"
    }
   ],
   "source": [
    "tree_demo"
   ]
  },
  {
   "cell_type": "code",
   "execution_count": null,
   "metadata": {},
   "outputs": [],
   "source": [
    "\n"
   ]
  },
  {
   "cell_type": "markdown",
   "metadata": {},
   "source": [
    "### Between populations. "
   ]
  },
  {
   "cell_type": "code",
   "execution_count": 48,
   "metadata": {},
   "outputs": [],
   "source": [
    "from tools.sfs_utilities_II import (\n",
    "    single_gen_matrix_v2, freq_progr_func, get_fixedtally_v2\n",
    ")\n",
    "\n",
    "from tools.ne_util import (\n",
    "    theta_constant, theta_exp\n",
    ")\n",
    "\n",
    "\n",
    "def branch_progress(theta_dict,Ne= 1000,T= 200,muG= 1.08e-8, ploidy= 2,s= 0,\n",
    "                    scale_sim= False,model_dict= {},fr= 1):\n",
    "    '''\n",
    "    Calculate frequency evolution on a single branch given provided parameters and theta function.\n",
    "    '''\n",
    "    muNuc= muG\n",
    "\n",
    "    if scale_sim:\n",
    "        scale_gen= model_dict[pop_select]['scale']\n",
    "        muNuc= muNuc / scale_gen\n",
    "        Ne= int(Ne * scale_gen)\n",
    "\n",
    "    ##### get number of mutations\n",
    "    mu= muNuc * seqL\n",
    "    Theta= 4 * Ne * mu\n",
    "    rate_Pmut= Theta / 2\n",
    "\n",
    "    MRCA= T / Ne / 2\n",
    "\n",
    "    Pexp= 2 * Ne * MRCA * Theta / 2 ## Multiply the standard poisson rate by 2Ne to do all the pop.\n",
    "\n",
    "    Poisson_conv= theta_dict['func'](T,Ne= Pexp,**theta_dict['kargs'])\n",
    "    muts= np.random.poisson(Poisson_conv,1)[0]\n",
    "\n",
    "    #####\n",
    "    freq_ar, fixed_tally, array_spec= freq_progr_func(theta_dict,fr= fr,Ne= Ne,\n",
    "                                          T= T,ploidy= ploidy, s= s, return_spec= True)\n",
    "\n",
    "    fsul, fixed= get_fixedtally_v2(fixed_tally)\n",
    "    \n",
    "    return freq_ar, array_spec, fixed\n",
    "\n",
    "\n",
    "def get_edge_dict(tree_summ, directed= True):\n",
    "    '''\n",
    "    get dictionary of edges.\n",
    "    '''\n",
    "    edge_dict= {}\n",
    "    for ed in tree_summ['edges']:\n",
    "        \n",
    "        for idx in range(1-int(directed)+1):\n",
    "            \n",
    "            parent= ed[idx]\n",
    "            daughter= ed[1-idx]\n",
    "            if parent in edge_dict.keys():\n",
    "                edge_dict[parent].append(daughter)\n",
    "            else:\n",
    "                edge_dict[parent]= [daughter]\n",
    "\n",
    "    return edge_dict\n",
    "\n",
    "\n",
    "def node_assign(tree_demo, tree_summ):\n",
    "    '''\n",
    "    '''\n",
    "    edge_dict= get_edge_dict(tree_summ)\n",
    "    print(edge_dict)\n",
    "    parent_dict= {}\n",
    "    for z,g in edge_dict.items():\n",
    "        print(z,g)\n",
    "        for nd in g:\n",
    "            parent_dict[nd]= z\n",
    "    \n",
    "    \n",
    "    new_nodes= {}\n",
    "    \n",
    "    for node in tree_demo:\n",
    "        children= list(node['N'].keys())\n",
    "        parent= parent_dict[children[0]]\n",
    "        nnode= {z:g for z,g in node.items() if z != 'node'}\n",
    "        new_nodes[parent]= nnode\n",
    "    \n",
    "    return new_nodes\n"
   ]
  },
  {
   "cell_type": "code",
   "execution_count": 61,
   "metadata": {},
   "outputs": [
    {
     "name": "stdout",
     "output_type": "stream",
     "text": [
      "{'0': ['(1,2)', '(3,4)'], '(1,2)': ['1', '2'], '(3,4)': ['3', '4']}\n",
      "0 ['(1,2)', '(3,4)']\n",
      "(1,2) ['1', '2']\n",
      "(3,4) ['3', '4']\n"
     ]
    },
    {
     "data": {
      "text/plain": [
       "{'0': {'T': 750, 'N': {'(3,4)': 500.0, '(1,2)': 800.0}},\n",
       " '(1,2)': {'T': 400, 'N': {'1': 800.0, '2': 600.0}},\n",
       " '(3,4)': {'T': 1500, 'N': {'3': 400.0, '4': 200.0}}}"
      ]
     },
     "execution_count": 61,
     "metadata": {},
     "output_type": "execute_result"
    }
   ],
   "source": [
    "from tools.ABC_utilities import (\n",
    "    sample_dist_beta, return_replica\n",
    ")\n",
    "\n",
    "sample_func= sample_dist_beta\n",
    "\n",
    "scale_sim= False\n",
    "burnin= 500\n",
    "\n",
    "seqL= 1e6\n",
    "\n",
    "muG= 1.08e-8\n",
    "idx= 0\n",
    "s= 0 # selection coefficient.\n",
    "ploidy= 2 # ploidy.\n",
    "Nsamp= 1\n",
    "\n",
    "\n",
    "replic= [return_replica(x,sample_func=sample_func,func=int,rescale_dict= rescale_dict,med_samp= med_samp) for x in tree_demo]\n",
    "node_dict= node_assign(replic, tree_summ)\n",
    "node_dict"
   ]
  },
  {
   "cell_type": "code",
   "execution_count": 31,
   "metadata": {},
   "outputs": [
    {
     "data": {
      "text/plain": [
       "{'0': ['(1,2)', '(3,4)'],\n",
       " '(1,2)': ['0', '1', '2'],\n",
       " '(3,4)': ['0', '3', '4'],\n",
       " '1': ['(1,2)'],\n",
       " '2': ['(1,2)'],\n",
       " '3': ['(3,4)'],\n",
       " '4': ['(3,4)']}"
      ]
     },
     "execution_count": 31,
     "metadata": {},
     "output_type": "execute_result"
    }
   ],
   "source": [
    "\n",
    "\n",
    "### ANCESTRAL POP\n",
    "\n",
    "anc_sample= sample_func(Nsamp,*anc_size,func= int,func_args= [],med_samp= med_samp)\n",
    "\n",
    "theta_dict= {\n",
    "    'func': theta_constant,\n",
    "    'kargs': {}\n",
    "}\n",
    "\n",
    "asize= anc_sample[idx]\n",
    "\n",
    "\n",
    "freq_ar, array_spec, fixed= branch_progress(theta_dict,Ne= asize,T= burnin,muG= muG, ploidy= ploidy,s= s,\n",
    "                    scale_sim= False,model_dict= {})\n",
    "\n",
    "\n"
   ]
  },
  {
   "cell_type": "code",
   "execution_count": 64,
   "metadata": {},
   "outputs": [],
   "source": [
    "def traverse_sfs(node_dict,tree_summ,theta_dict,node= '0',fr= 1,Ne= 500,T= 200,muG= 1.08e-8, ploidy= 2,s= 0,\n",
    "                    scale_sim= False,model_dict= {},sample_func= sample_dist_beta,\n",
    "                med_samp= True):\n",
    "    \n",
    "    node= node_dict[node]\n",
    "    print(Ne)\n",
    "    freq_ar, array_spec, fixed= branch_progress(theta_dict,fr=fr,Ne= Ne,T= T,muG= muG, ploidy= ploidy,s= s,\n",
    "                    scale_sim= False,model_dict= {})\n",
    "    \n",
    "    New_time= node['T']\n",
    "    \n",
    "    for child,Nec in node[\"N\"].items():\n",
    "        Nec= int(Nec)\n",
    "        if child in tree_summ['leaves']:\n",
    "            print(Nec)\n",
    "            \n",
    "            freq_ar_c, array_spec_c, fixed_c= branch_progress(theta_dict,fr=freq_ar,Ne= Nec,T= New_time,muG= muG, \n",
    "                                                        ploidy= ploidy,s= s,\n",
    "                                                        scale_sim= False,model_dict= {})\n",
    "                        \n",
    "            return {\n",
    "                'specs':array_spec_c,\n",
    "                'fixed': fixed_c,   \n",
    "            }\n",
    "        \n",
    "        else:\n",
    "            next_t= node_dict[child]['T']\n",
    "            next_t= New_time - next_t\n",
    "            return {\n",
    "                'specs':array_spec,\n",
    "                'fixed': fixed,\n",
    "                'branch': traverse_sfs(node_dict,tree_summ,theta_dict,node= child,fr= freq_ar,Ne= Nec,T= next_t,\n",
    "                                       muG= muG, ploidy= ploidy,s= s, sample_func= sample_func,\n",
    "                                        scale_sim= scale_sim,model_dict= model_dict,\n",
    "                                        med_samp= med_samp)\n",
    "            }\n",
    "            \n",
    "        \n",
    "        \n",
    "    \n",
    "    \n",
    "        \n",
    "        \n",
    "        \n",
    "        "
   ]
  },
  {
   "cell_type": "code",
   "execution_count": 65,
   "metadata": {},
   "outputs": [
    {
     "name": "stdout",
     "output_type": "stream",
     "text": [
      "1000\n",
      "500\n"
     ]
    },
    {
     "ename": "ValueError",
     "evalue": "lam < 0",
     "output_type": "error",
     "traceback": [
      "\u001b[1;31m---------------------------------------------------------------------------\u001b[0m",
      "\u001b[1;31mValueError\u001b[0m                                Traceback (most recent call last)",
      "\u001b[1;32m<ipython-input-65-063fa422f5c5>\u001b[0m in \u001b[0;36m<module>\u001b[1;34m\u001b[0m\n\u001b[0;32m      2\u001b[0m traverse_sfs(node_dict,tree_summ,theta_dict,node= '0',fr= 1,Ne= asize,T= burnin,muG= muG, ploidy= ploidy,s= s,\n\u001b[0;32m      3\u001b[0m                     \u001b[0mscale_sim\u001b[0m\u001b[1;33m=\u001b[0m \u001b[0mscale_sim\u001b[0m\u001b[1;33m,\u001b[0m\u001b[0msample_func\u001b[0m\u001b[1;33m=\u001b[0m \u001b[0msample_func\u001b[0m\u001b[1;33m,\u001b[0m\u001b[1;33m\u001b[0m\u001b[1;33m\u001b[0m\u001b[0m\n\u001b[1;32m----> 4\u001b[1;33m                     med_samp= med_samp)\n\u001b[0m",
      "\u001b[1;32m<ipython-input-64-5a1128f2ba00>\u001b[0m in \u001b[0;36mtraverse_sfs\u001b[1;34m(node_dict, tree_summ, theta_dict, node, fr, Ne, T, muG, ploidy, s, scale_sim, model_dict, sample_func, med_samp)\u001b[0m\n\u001b[0;32m     33\u001b[0m                                        \u001b[0mmuG\u001b[0m\u001b[1;33m=\u001b[0m \u001b[0mmuG\u001b[0m\u001b[1;33m,\u001b[0m \u001b[0mploidy\u001b[0m\u001b[1;33m=\u001b[0m \u001b[0mploidy\u001b[0m\u001b[1;33m,\u001b[0m\u001b[0ms\u001b[0m\u001b[1;33m=\u001b[0m \u001b[0ms\u001b[0m\u001b[1;33m,\u001b[0m \u001b[0msample_func\u001b[0m\u001b[1;33m=\u001b[0m \u001b[0msample_func\u001b[0m\u001b[1;33m,\u001b[0m\u001b[1;33m\u001b[0m\u001b[1;33m\u001b[0m\u001b[0m\n\u001b[0;32m     34\u001b[0m                                         \u001b[0mscale_sim\u001b[0m\u001b[1;33m=\u001b[0m \u001b[0mscale_sim\u001b[0m\u001b[1;33m,\u001b[0m\u001b[0mmodel_dict\u001b[0m\u001b[1;33m=\u001b[0m \u001b[0mmodel_dict\u001b[0m\u001b[1;33m,\u001b[0m\u001b[1;33m\u001b[0m\u001b[1;33m\u001b[0m\u001b[0m\n\u001b[1;32m---> 35\u001b[1;33m                                         med_samp= med_samp)\n\u001b[0m\u001b[0;32m     36\u001b[0m             }\n\u001b[0;32m     37\u001b[0m \u001b[1;33m\u001b[0m\u001b[0m\n",
      "\u001b[1;32m<ipython-input-64-5a1128f2ba00>\u001b[0m in \u001b[0;36mtraverse_sfs\u001b[1;34m(node_dict, tree_summ, theta_dict, node, fr, Ne, T, muG, ploidy, s, scale_sim, model_dict, sample_func, med_samp)\u001b[0m\n\u001b[0;32m      6\u001b[0m     \u001b[0mprint\u001b[0m\u001b[1;33m(\u001b[0m\u001b[0mNe\u001b[0m\u001b[1;33m)\u001b[0m\u001b[1;33m\u001b[0m\u001b[1;33m\u001b[0m\u001b[0m\n\u001b[0;32m      7\u001b[0m     freq_ar, array_spec, fixed= branch_progress(theta_dict,fr=fr,Ne= Ne,T= T,muG= muG, ploidy= ploidy,s= s,\n\u001b[1;32m----> 8\u001b[1;33m                     scale_sim= False,model_dict= {})\n\u001b[0m\u001b[0;32m      9\u001b[0m \u001b[1;33m\u001b[0m\u001b[0m\n\u001b[0;32m     10\u001b[0m     \u001b[0mNew_time\u001b[0m\u001b[1;33m=\u001b[0m \u001b[0mnode\u001b[0m\u001b[1;33m[\u001b[0m\u001b[1;34m'T'\u001b[0m\u001b[1;33m]\u001b[0m\u001b[1;33m\u001b[0m\u001b[1;33m\u001b[0m\u001b[0m\n",
      "\u001b[1;32m<ipython-input-48-7787499f5aa7>\u001b[0m in \u001b[0;36mbranch_progress\u001b[1;34m(theta_dict, Ne, T, muG, ploidy, s, scale_sim, model_dict, fr)\u001b[0m\n\u001b[0;32m     30\u001b[0m \u001b[1;33m\u001b[0m\u001b[0m\n\u001b[0;32m     31\u001b[0m     \u001b[0mPoisson_conv\u001b[0m\u001b[1;33m=\u001b[0m \u001b[0mtheta_dict\u001b[0m\u001b[1;33m[\u001b[0m\u001b[1;34m'func'\u001b[0m\u001b[1;33m]\u001b[0m\u001b[1;33m(\u001b[0m\u001b[0mT\u001b[0m\u001b[1;33m,\u001b[0m\u001b[0mNe\u001b[0m\u001b[1;33m=\u001b[0m \u001b[0mPexp\u001b[0m\u001b[1;33m,\u001b[0m\u001b[1;33m**\u001b[0m\u001b[0mtheta_dict\u001b[0m\u001b[1;33m[\u001b[0m\u001b[1;34m'kargs'\u001b[0m\u001b[1;33m]\u001b[0m\u001b[1;33m)\u001b[0m\u001b[1;33m\u001b[0m\u001b[1;33m\u001b[0m\u001b[0m\n\u001b[1;32m---> 32\u001b[1;33m     \u001b[0mmuts\u001b[0m\u001b[1;33m=\u001b[0m \u001b[0mnp\u001b[0m\u001b[1;33m.\u001b[0m\u001b[0mrandom\u001b[0m\u001b[1;33m.\u001b[0m\u001b[0mpoisson\u001b[0m\u001b[1;33m(\u001b[0m\u001b[0mPoisson_conv\u001b[0m\u001b[1;33m,\u001b[0m\u001b[1;36m1\u001b[0m\u001b[1;33m)\u001b[0m\u001b[1;33m[\u001b[0m\u001b[1;36m0\u001b[0m\u001b[1;33m]\u001b[0m\u001b[1;33m\u001b[0m\u001b[1;33m\u001b[0m\u001b[0m\n\u001b[0m\u001b[0;32m     33\u001b[0m \u001b[1;33m\u001b[0m\u001b[0m\n\u001b[0;32m     34\u001b[0m     \u001b[1;31m#####\u001b[0m\u001b[1;33m\u001b[0m\u001b[1;33m\u001b[0m\u001b[1;33m\u001b[0m\u001b[0m\n",
      "\u001b[1;32mmtrand.pyx\u001b[0m in \u001b[0;36mmtrand.RandomState.poisson\u001b[1;34m()\u001b[0m\n",
      "\u001b[1;31mValueError\u001b[0m: lam < 0"
     ]
    }
   ],
   "source": [
    "\n",
    "traverse_sfs(node_dict,tree_summ,theta_dict,node= '0',fr= 1,Ne= asize,T= burnin,muG= muG, ploidy= ploidy,s= s,\n",
    "                    scale_sim= scale_sim,sample_func= sample_func,\n",
    "                    med_samp= med_samp)"
   ]
  },
  {
   "cell_type": "code",
   "execution_count": null,
   "metadata": {},
   "outputs": [],
   "source": []
  }
 ],
 "metadata": {
  "kernelspec": {
   "display_name": "Python 3",
   "language": "python",
   "name": "python3"
  },
  "language_info": {
   "codemirror_mode": {
    "name": "ipython",
    "version": 3
   },
   "file_extension": ".py",
   "mimetype": "text/x-python",
   "name": "python",
   "nbconvert_exporter": "python",
   "pygments_lexer": "ipython3",
   "version": "3.7.3"
  }
 },
 "nbformat": 4,
 "nbformat_minor": 2
}
